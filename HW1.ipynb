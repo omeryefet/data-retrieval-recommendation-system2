{
 "cells": [
  {
   "cell_type": "markdown",
   "metadata": {},
   "source": [
    "# Homework 1: Information Retrieval\n",
    "## Instructions\n",
    "1. Students will form teams of three people each and submit a single homework for each team in the format - ID1_ID2_ID3.ipynb\n",
    "2. Groups of three!\n",
    "2. **Do not write your names anywhere.**\n",
    "3. For the code part: \n",
    "> **Write your code only in the mentioned sections. Do not change the code of other sections**. Do not use any imports unless we say so.\n",
    "4. For theoretical questions, if any - write your answer in the markdown cell dedicated to this task, in **English**.\n",
    "\n",
    "\n",
    "#### Deviation from the aforementioned  instructions will lead to reduced grade\n",
    "---\n",
    "\n",
    "\n",
    "## Clarifications\n",
    "1. The same score for the homework will be given to each member of the team.  \n",
    "2. The goal of this homework is to test your understanding of the concepts presented in the lectures. \\\n",
    "Anyhow, we provide here detailed explanations for the code part and if you have problems - ask.\n",
    "3. Questions can be sent to the forum, you are encouraged to ask questions but do so after you have been thinking about your question. \n",
    "4. The length of the empty gaps (where you are supposed to write your code) is a recommendation (the amount of space took us to write the solution) and writing longer code will not harm your grade. We do not expect you to use the programming tricks and hacks we used to make the code shorter.   \n",
    "Having said that, we do encourage you to write good code and keep that in mind - **extreme** cases may be downgraded.  \n",
    "We also encourage to use informative variable names - it is easier for us to check and for you to understand. \n",
    "\n",
    "For your convenience, , the code has a **DEBUG** mode that you may use in order to debug with toy data.  \n",
    "It is recommended to solve the code in that mode (with efficiency in mind) and then run the code on all the data.\n",
    "**Do not forget to file the HW with DEBUG == False**.\n",
    "\n",
    "\n",
    "Since it is the first time we provide this homework please notify us if there is a bug/something is unclear, typo's exc..\n",
    "\n",
    "5. We use Python 3.7 for programming.\n",
    "6. Make sure you have all the packages and functions used in the import section. Most of it is native to Anaconda Python distribution.\n",
    "\n",
    "### Have fun !"
   ]
  },
  {
   "cell_type": "markdown",
   "metadata": {},
   "source": [
    "# Imports"
   ]
  },
  {
   "cell_type": "code",
   "execution_count": 36,
   "metadata": {},
   "outputs": [],
   "source": [
    "import numpy as np\n",
    "import pandas as pd\n",
    "import matplotlib.pyplot as plt\n",
    "from collections import Counter\n",
    "%matplotlib inline\n",
    "from tqdm import tqdm\n",
    "from typing import List,Dict\n",
    "from IPython.display import Image\n",
    "from IPython.core.display import HTML \n",
    "from pathlib import Path\n",
    "import statistics\n",
    "import math\n",
    "import scipy.stats as st\n",
    "import time"
   ]
  },
  {
   "cell_type": "code",
   "execution_count": 37,
   "metadata": {},
   "outputs": [],
   "source": [
    "tic = time.perf_counter() #Start timer"
   ]
  },
  {
   "cell_type": "code",
   "execution_count": 38,
   "metadata": {},
   "outputs": [
    {
     "name": "stderr",
     "output_type": "stream",
     "text": [
      "[nltk_data] Downloading package stopwords to\n",
      "[nltk_data]     C:\\Users\\omery\\AppData\\Roaming\\nltk_data...\n",
      "[nltk_data]   Package stopwords is already up-to-date!\n",
      "[nltk_data] Downloading package punkt to\n",
      "[nltk_data]     C:\\Users\\omery\\AppData\\Roaming\\nltk_data...\n",
      "[nltk_data]   Package punkt is already up-to-date!\n"
     ]
    }
   ],
   "source": [
    "from nltk.tokenize import word_tokenize \n",
    "from nltk.stem.porter import PorterStemmer\n",
    "import nltk\n",
    "nltk.download(\"stopwords\")\n",
    "nltk.download(\"punkt\")\n",
    "from string import punctuation, ascii_lowercase\n",
    "from nltk.corpus import stopwords"
   ]
  },
  {
   "cell_type": "markdown",
   "metadata": {},
   "source": [
    "# Debug\n",
    "\"\"\" you can change this cell \"\"\""
   ]
  },
  {
   "cell_type": "code",
   "execution_count": 39,
   "metadata": {},
   "outputs": [],
   "source": [
    "DEBUG = False\n",
    "\"\"\"\n",
    "Recommended to start with a small number to get a feeling for the preprocessing with prints (N_ROWS_FOR_DEBUG = 2)\n",
    "later increase this number for 5*10**3 in order to see that the code runs at reasonable speed. \n",
    "When setting Debug == False, our code implements bow.fit() in 15-20 minutes according to the tqdm progress bar. Your solution is not supposed to be much further than that.\n",
    "\"\"\"\n",
    "N_ROWS_FOR_DEBUG = 5*10**3 "
   ]
  },
  {
   "cell_type": "markdown",
   "metadata": {},
   "source": [
    "# Config"
   ]
  },
  {
   "cell_type": "code",
   "execution_count": 40,
   "metadata": {},
   "outputs": [],
   "source": [
    "INPUT_FILE_PATH = Path(\"lyrics.csv\")\n",
    "BOW_PATH = Path(\"bow.csv\")\n",
    "N_ROWS = N_ROWS_FOR_DEBUG if DEBUG else None\n",
    "CHUNCK_SIZE = 5 if DEBUG else 5*10**3\n",
    "tqdm_n_iterations = N_ROWS//CHUNCK_SIZE +1 if DEBUG else 114*10**3//CHUNCK_SIZE + 1\n",
    "COLS = [0]"
   ]
  },
  {
   "cell_type": "markdown",
   "metadata": {},
   "source": [
    "## 1.1 Bag of words /TfIdf model\n",
    "### Implement the following methods:\n",
    "\n",
    "* `preprocess_sentence`: \n",
    "    * Lower case the word\n",
    "    * Ignores it if it's in the stopwords list\n",
    "    * Removes characters which are not in the allowed symbols\n",
    "    * Stems it and appends it to the output sentence\n",
    "    * Discards words with length <= 1\n",
    "    \n",
    "    \n",
    "* `update_counts_and_probabilities`: \n",
    "\n",
    "    * Update self.unigram count (the amount of time each word is in the text)\n",
    "    * Update self.bigram count (two consecutive word occurances)\n",
    "    * Update inverted index: a dictionary with words as keys and the values is a dictionary - {'DocID' : word_count}   \n",
    "    \n",
    "* `compute_word_document_frequency`:\n",
    "\n",
    "   * For each word count the number of docs it appears in. For example , for the word 'apple' -\n",
    "$$\\sum_{i \\in docs} I(apple \\in doc_i), I := Indicator function$$\n",
    "\n",
    "\n",
    "* `update_inverted_index_with_tf_idf_and_compute_document_norm`:\n",
    "\n",
    "    * Update the inverted index (which currently hold word counts) with tf idf weighing. We will compute tf by dividing with the number of words in each document. \n",
    "    * As we want to calculate the document norm, incrementally update the document norm. pay attention that later we apply sqrt to it to finish the process.\n",
    "\n",
    "#### The result of this code is a bag of words model that already counts for TF-IDF weighing"
   ]
  },
  {
   "cell_type": "code",
   "execution_count": 41,
   "metadata": {},
   "outputs": [],
   "source": [
    "stemmer = PorterStemmer()\n",
    "stop_words = set(stopwords.words('english'))\n",
    "allowed_symbols = set(l for l in ascii_lowercase)"
   ]
  },
  {
   "cell_type": "code",
   "execution_count": 42,
   "metadata": {},
   "outputs": [
    {
     "name": "stderr",
     "output_type": "stream",
     "text": [
      "100%|██████████| 23/23 [11:18<00:00, 29.49s/it]\n"
     ]
    }
   ],
   "source": [
    "def preprocess_sentence(sentence : str) -> List[str]:\n",
    "    output_sentence = []\n",
    "    for word in word_tokenize(sentence):  # Go over all word in a sentence                        \n",
    "        lower_word=word.lower()  # Lower case the word\n",
    "        if lower_word not in stop_words:  # Ignores the word if it's in the stopwords list\n",
    "            word_letters = list(lower_word)  # Make a list of the word letters\n",
    "            valid_letters = []  # Initialize a list of valid letters\n",
    "            for l in word_letters:  # Go over all letters in a word\n",
    "                if l in allowed_symbols:  # Check if a letter is allowed\n",
    "                    valid_letters.append(l)  # Keep over characters which are in the allowed symbols\n",
    "            clean_word = ''.join(valid_letters)  # Reconnect the valid letters back into one word\n",
    "            clean_word = stemmer.stem(clean_word)  # Stem the word\n",
    "            if len(clean_word) > 1:  # Check the length of a word\n",
    "                output_sentence.append(clean_word)  # keep over words with one character or less\n",
    "    return output_sentence     \n",
    "\n",
    "def get_data_chuncks() -> List[str]:\n",
    "    for i ,chunck in enumerate(pd.read_csv(INPUT_FILE_PATH, usecols = COLS, chunksize = CHUNCK_SIZE, nrows = N_ROWS)):\n",
    "        chunck = chunck.values.tolist()\n",
    "        yield [chunck[i][0] for i in range(len(chunck))]\n",
    "        \n",
    "class TfIdf:\n",
    "    def __init__(self,  weighted_dic = None):\n",
    "        self.weighted_dic = weighted_dic\n",
    "        self.unigram_count =  Counter()\n",
    "        self.bigram_count = Counter()\n",
    "        self.document_term_frequency = Counter()\n",
    "        self.word_document_frequency = {}\n",
    "        self.inverted_index = {}\n",
    "        self.doc_norms = {}\n",
    "        self.n_docs = -1\n",
    "        self.sentence_preprocesser = preprocess_sentence\n",
    "        self.bow_path = BOW_PATH\n",
    "\n",
    "    def update_counts_and_probabilities(self, sentence, document_id):\n",
    "        \"\"\"\n",
    "        Update the number of times a word appears in every document\n",
    "        \"\"\"\n",
    "        sentence_len = len(sentence)\n",
    "        self.document_term_frequency[document_id] = sentence_len  # Keep the length of the sentence\n",
    "        for i,word in enumerate(sentence):  # Go over all the words in the sentence \n",
    "            self.unigram_count[word] += 1  # Update the unigram Counter object that holds for each word how many time it appers in the corpus\n",
    "            if i < (sentence_len - 1):  # Edge condition to check that we are not in the last word\n",
    "                bigram = word,sentence[i+1]  # Set a tuple of a word and the adjacent word in the sentence\n",
    "                self.bigram_count[bigram] += 1  # Update the bigram Counter object that holds for each pair of words how many time it appers in the corpus\n",
    "            if word not in self.inverted_index:  # Check if a word is not in the inverted index\n",
    "                self.inverted_index[word] = {}  # Initialize new empty dict for the new word\n",
    "            if document_id not in self.inverted_index[word]:  # Check if a document does not appear in the list of a word\n",
    "                self.inverted_index[word][document_id] = 1  # Set a new document for the word with one appearance\n",
    "            else:\n",
    "                self.inverted_index[word][document_id] += 1  # Set the number of appearances for a combination of document and word\n",
    "            \n",
    "    def fit(self):\n",
    "        for chunck in tqdm(get_data_chuncks(), total = tqdm_n_iterations):\n",
    "            for sentence in chunck: # sentence is a song (string)\n",
    "                self.n_docs += 1 \n",
    "                if not isinstance(sentence, str):\n",
    "                    continue\n",
    "                sentence = self.sentence_preprocesser(sentence)\n",
    "                if sentence:\n",
    "                    self.update_counts_and_probabilities(sentence,self.n_docs)\n",
    "        self.save_bow() # bow is 'bag of words'\n",
    "        self.compute_word_document_frequency()\n",
    "        self.update_inverted_index_with_tf_idf_and_compute_document_norm()\n",
    "             \n",
    "    def compute_word_document_frequency(self):\n",
    "        \"\"\"\n",
    "        Count the number of documents a specific words appears\n",
    "        \"\"\"\n",
    "        for word in self.inverted_index.keys():\n",
    "            self.word_document_frequency[word] = len(self.inverted_index[word])\n",
    "            \n",
    "    def update_inverted_index_with_tf_idf_and_compute_document_norm(self):\n",
    "        for word in self.inverted_index.keys():  # For every word in the corpus\n",
    "            for doc in self.inverted_index[word].keys():  # For every document containing the word\n",
    "                n_words_in_doc = self.document_term_frequency[doc]  # Length of the document is the number of words in it\n",
    "                tf = (self.inverted_index[word][doc]) / n_words_in_doc  # Term frequency is the number of words in a docuemt divided by the number of the words in it\n",
    "                idf = np.log10((self.n_docs + 1) / self.word_document_frequency[word])  # Inverted document frequency is log 10 of the number of docs, divded in the number of docs that the word appers in\n",
    "                w_ij = tf * idf  # Calcluated tf-idf metric              \n",
    "                self.inverted_index[word][doc] = w_ij  # Set the weight of a document to the tf-idf metric value   \n",
    "                if doc not in self.doc_norms:  # Check if a document does not appear in doc norm dictionary\n",
    "                    self.doc_norms[doc] = 0  # initialize value for the first time that creating the doc norm\n",
    "                self.doc_norms[doc] += (w_ij ** 2)  # Calculated the norm (sum the square of the weights)\n",
    "        for doc in self.doc_norms.keys():  # For all documents in doc_norms\n",
    "            self.doc_norms[doc] = np.sqrt(self.doc_norms[doc])  # The norm of the document is the square root of the weights' sum of squares\n",
    "            \n",
    "    def save_bow(self):\n",
    "        pd.DataFrame([self.inverted_index]).T.to_csv(self.bow_path)\n",
    "                \n",
    "tf_idf = TfIdf()\n",
    "tf_idf.fit()"
   ]
  },
  {
   "cell_type": "markdown",
   "metadata": {},
   "source": [
    "## 1.11 Bag of words model:\n",
    "\n",
    "1. What is the computational complexity of this model, as a function of the number of docs in the corpus?\n",
    "2. How can we make this code better in terms running time (parallelization or other topics you find)? "
   ]
  },
  {
   "cell_type": "raw",
   "metadata": {},
   "source": [
    "D - The number of docs in the corpus\n",
    "V - The number of all the words in the corpus\n",
    "E - The average number of words in one doc (V/D in the worst case when all words are different)\n",
    "\n",
    "# Assumption1 - word.lower complexity is O(1), as words are not very long O(8)~=O(1)\n",
    "\n",
    "1. \n",
    "# Fit complexity\n",
    "\n",
    "    'preprocess_sentence' - O(E) # tokenize evey sentence - insert every word to a list\n",
    "        * Look for word in set - O(1)\n",
    "        * Convert word to list O(1) (Assumption1)\n",
    "        * Iterate over letters in word * look if letter is allowed - O(1) * O(1) = O(1)\n",
    "        * Stemming - O(1)\n",
    "        ----> Total complexity: O(E) * (O(1) + O(1) + O(1)) = O(E)\n",
    "        Preprocess works on every word in a document O(E)\n",
    "        \n",
    "    'update_counts_and_probabilities' complexity:\n",
    "        * For every word in a sentence O(E)\n",
    "        * Calculate unigram O(1)\n",
    "        * Calculate bigram O(1)\n",
    "        * Store in dictionary O(1)\n",
    "        ----> Total complexity = O(E) * (O(1) + O(1) + O(1)) = O(E)\n",
    "\n",
    "    'compute_word_document_frequency' complexity\n",
    "        * For every word in the corpus O(V)\n",
    "    \n",
    "    'update_inverted_index_with_tf_idf_and_compute_document_norm' complexity:\n",
    "        * For every word in the corpus - O(V)\n",
    "        * For every doc in the corpus - O(D)\n",
    "        * Calculation - O(1)\n",
    "        * For every doc in the corpus - O(D) \n",
    "        ----> Total complexity = O(V) * O(D) * O(1) + O(D) = O(V * D)\n",
    "\n",
    "For every sentence (document) call 'preprocess_sentence' then call 'update_counts_and_probabilities'.\n",
    "After we call 'compute_word_document_frequency' and after 'update_inverted_index_with_tf_idf_and_compute_document_norm'.\n",
    "* For every doc in the corpus - O(D)\n",
    "* 'preprocess_sentence' - O(E)\n",
    "* 'update_counts_and_probabilities' - O(E)\n",
    "* 'compute_word_document_frequency' - O(V)\n",
    "* 'update_inverted_index_with_tf_idf_and_compute_document_norm' - O(V * D)\n",
    "\n",
    "----> Total complexity = O(D) * (O(V) + O(V)) + O(E) + O(V) => O(D) * O(V) + O(E) + O(V) => O(D * V) + O(E) + O(V) = O(D * V)\n",
    "  \n",
    "\n",
    "2.\n",
    "We could split the computation task for 'update_counts_and_probabilities' between multiple servers.\n",
    "Each server will be given sevral 'chuncks' to process and will the inverted index dictionary.\n",
    "\n",
    "Then, we will gather all the inverted index dictionaries from our servers.\n",
    "For every term in the unified inverted index dictionary, we will add the documents the term apperas in with it's count.\n",
    "(We will iterate over each 'sub-inverted index dictionary' and add the document the term appears in).\n",
    "\n",
    "We can put in the the 'compute_word_document_frequency' function into 'update_inverted_index_with_tf_idf_and_compute_document_norm' function\n",
    "but this will not contribute to minimizing complexity since in the 'fit' function the two functions are called one after the other.\n",
    "\n",
    "In addition, For each word in the 'update_counts_and_probabilities' function we will update the inverted_index\n",
    "with weights instead of word counts and for the first appearance of a certain word in the document we will add 1 to word_document_frequency[word].\n"
   ]
  },
  {
   "cell_type": "markdown",
   "metadata": {},
   "source": [
    "## 1.2 DocumentRetriever\n",
    "Not this retriever &#8595;"
   ]
  },
  {
   "cell_type": "markdown",
   "metadata": {},
   "source": [
    "\n",
    "![dsafdsafsdafdsf](https://cdn3-www.dogtime.com/assets/uploads/2019/10/golden-cocker-retriever-mixed-dog-breed-pictures-cover-1.jpg)"
   ]
  },
  {
   "cell_type": "markdown",
   "metadata": {},
   "source": [
    "### Implement the following methods:\n",
    "\n",
    "`reduce_query_to_counts`: given a list of words returns a counter object with words as keys and counts as values.\n",
    "\n",
    "`rank`: given a query and relevant documents calculate the similarity (cosine or inner product simialrity) between each document and the query.   \n",
    "Make sure to transform the query word counts to tf idf as well. \n",
    "\n",
    "`sort_and_retrieve_k_best`: returns the top k documents."
   ]
  },
  {
   "cell_type": "code",
   "execution_count": 43,
   "metadata": {},
   "outputs": [],
   "source": [
    "class DocumentRetriever:\n",
    "    def __init__(self, tf_idf):\n",
    "        self.sentence_preprocesser = preprocess_sentence  \n",
    "        self.vocab = set(tf_idf.unigram_count.keys())\n",
    "        self.n_docs = tf_idf.n_docs\n",
    "        self.inverted_index = tf_idf.inverted_index\n",
    "        self.word_document_frequency = tf_idf.word_document_frequency\n",
    "        self.doc_norms = tf_idf.doc_norms\n",
    "        \n",
    "    def rank(self,query: Dict[str,int], documents: Dict[str,Counter], metric: str ) -> Dict[str, float]:\n",
    "        result = {} # key: DocID , value : float , similarity to query\n",
    "        query_len = np.sum(np.array(list(query.values())))\n",
    "        tfidf_sum_sqrt = 0  # Initialize the query norm\n",
    "        query_tfidf = {}  # Initialize dict that holds the query words and their tf-idf weighting\n",
    "        for word in query:\n",
    "            tf = query[word] / query_len  # Term frequency of the word is the number of times that the word appers in the query divided in the number of words in the query\n",
    "            idf = np.log10((self.n_docs+1)/self.word_document_frequency[word]) # Inverted document frequency is log 10 of the number of docs, divded in the number of docs that the word appers in\n",
    "            query_tfidf[word] = tf * idf \n",
    "            tfidf_sum_sqrt += (query_tfidf[word]) ** 2  # In order to calculated the norm, we will sum up the square weights and in the end take the sqrt \n",
    "            for doc in documents[word]:  # For each doc from the docs that the word appears in\n",
    "                if doc not in result:  # First time the doc appears in the final dict result\n",
    "                    result[doc] = 0  # Initialize the doc value to zero\n",
    "                result[doc] += (documents[word][doc] * query_tfidf[word])  # Sum up the inner_product calculation to the result dict (word-dict weighting duble the word-query weighting)      \n",
    "        query_norm = np.sqrt(tfidf_sum_sqrt)\n",
    "        if metric == 'cosine':  # If metric is cosine similarity, normalize with the query norm and the document norm\n",
    "            for doc in result:  # For all documents\n",
    "                result[doc] = result[doc] / (query_norm * self.doc_norms[doc])   # Normalize each value of document\n",
    "        return result\n",
    "        \n",
    "    def sort_and_retrieve_k_best(self, scores: Dict[str, float],k :int):\n",
    "        return list(dict(Counter(scores).most_common(k)).keys())\n",
    "  \n",
    "    def reduce_query_to_counts(self, query : List)->  Counter:\n",
    "        return Counter(query)\n",
    "\n",
    "    def get_top_k_documents(self,query : str, metric: str , k = 5) -> List[str]:\n",
    "        query = self.sentence_preprocesser(query)\n",
    "        query = [word for word in query if word in self.vocab] # filter nan \n",
    "        query_bow = self.reduce_query_to_counts(query)\n",
    "        relavant_documents = {word : self.inverted_index.get(word) for word in query}\n",
    "        ducuments_with_similarity = self.rank(query_bow,relavant_documents, metric)\n",
    "        return self.sort_and_retrieve_k_best(ducuments_with_similarity,k)\n",
    "        \n",
    "dr = DocumentRetriever(tf_idf)"
   ]
  },
  {
   "cell_type": "code",
   "execution_count": 44,
   "metadata": {},
   "outputs": [
    {
     "data": {
      "text/html": [
       "<iframe width=\"560\" height=\"315\" src=\"https://www.youtube.com/embed/KT6ZtUbVw1M?rel=0&amp;controls=0&amp;showinfo=0\" frameborder=\"0\" allowfullscreen></iframe>"
      ],
      "text/plain": [
       "<IPython.core.display.HTML object>"
      ]
     },
     "execution_count": 44,
     "metadata": {},
     "output_type": "execute_result"
    }
   ],
   "source": [
    "from IPython.display import HTML\n",
    "query = \"Better stop dreaming of the quiet life, 'cause it's the one we'll never know And quit running for that runaway bus 'cause those rosy days are few And stop apologizing for the things you've never done 'Cause time is short and life is cruel but it's up to us to change This town called malice\"\n",
    "HTML('<iframe width=\"560\" height=\"315\" src=\"https://www.youtube.com/embed/KT6ZtUbVw1M?rel=0&amp;controls=0&amp;showinfo=0\" frameborder=\"0\" allowfullscreen></iframe>')"
   ]
  },
  {
   "cell_type": "code",
   "execution_count": 45,
   "metadata": {},
   "outputs": [
    {
     "name": "stdout",
     "output_type": "stream",
     "text": [
      "[50221, 50233, 28634, 101537, 38867]\n",
      "[111535, 111650, 26464, 38867, 7344]\n"
     ]
    }
   ],
   "source": [
    "cosine_top_k = dr.get_top_k_documents(query, 'cosine')\n",
    "print(cosine_top_k)\n",
    "inner_product_top_k = dr.get_top_k_documents(query, 'inner_product')\n",
    "print(inner_product_top_k)"
   ]
  },
  {
   "cell_type": "code",
   "execution_count": 46,
   "metadata": {},
   "outputs": [
    {
     "name": "stdout",
     "output_type": "stream",
     "text": [
      "##################################################\n",
      "song #0 \n",
      "A Town Called Malice. Better stop dreaming of the quiet life. 'Cos it's the one we'll never know. And quit running for that runaway bus. 'Cos those rosey days are few. And stop apologising for the things you've never done,. 'Cos time is short and life is cruel. Well it's up to us to change. This town called malice uh uh yeah. Rows and rows of disused milk floats. stand dying in the dairy yard. And a hundred lonely housewives clutch empty milk. bottles to their hearts. Hanging out their old love letters on the line to dry. It's enough to make you stop believing when tears come. fast and furious. In a town called malice uh uh yeah. Struggle after struggle. Year after year. The atmosphere's a fine blend of ice. I'm almost stone cold dead. In a town called malice uh uh yeah. A whole street's belief in Sunday's roast beef. gets dashed against the Co-op. To either cut down on beer or the kids new gear. It's a big decision in a town called malice uh uh yeah. The ghost of a steam train. Echoes down my track. It's at the moment bound for nowhere. Just going round and round. Playground kids and creaking swings. Lost laughter in the breeze. I could go on for hours and I probably will. But I'd sooner put some joy back. In this town called malice yeah yeah \n",
      "##################################################\n",
      "##################################################\n",
      "song #1 \n",
      "A Town Called Malice. Better stop dreaming of the quiet life. 'Cos it's the one we'll never know. And quit running for that runaway bus. 'Cos those rosey days are few. And stop apologising for the things you've never done,. 'Cos time is short and life is cruel. Well it's up to us to change. This town called malice uh uh yeah. Rows and rows of disused milk floats. stand dying in the dairy yard. And a hundred lonely housewives clutch empty milk. bottles to their hearts. Hanging out their old love letters on the line to dry. It's enough to make you stop believing when tears come. fast and furious. In a town called malice uh uh yeah. Struggle after struggle. Year after year. The atmosphere's a fine blend of ice. I'm almost stone cold dead. In a town called malice uh uh yeah. A whole street's belief in Sunday's roast beef. gets dashed against the Co-op. To either cut down on beer or the kids new gear. It's a big decision in a town called malice uh uh yeah. The ghost of a steam train. Echoes down my track. It's at the moment bound for nowhere. Just going round and round. Playground kids and creaking swings. Lost laughter in the breeze. I could go on for hours and I probably will. But I'd sooner put some joy back. In this town called malice yeah yeah \n",
      "##################################################\n",
      "##################################################\n",
      "song #2 \n",
      "Better stop dreaming of the quiet life. 'Cos it's the one we'll never know. And quit running for that runaway bus. 'Cos those rosey days are few. And stop apologising for the things you've never done,. 'Cos time is short and life is cruel. Well it's up to us to change. This town called malice uh uh yeah. Rows and rows of disused milk floats. stand dying in the dairy yard. And a hundred lonely housewives clutch empty milk. bottles to their hearts. Hanging out their old love letters on the line to dry. It's enough to make you stop believing when tears come. fast and furious. In a town called malice uh uh yeah. Struggle after struggle. Year after year. The atmosphere's a fine blend of ice. I'm almost stone cold dead. In a town called malice uh uh yeah. A whole street's belief in Sunday's roast beef. gets dashed against the Co-op. To either cut down on beer or the kids new gear. It's a big decision in a town called malice uh uh yeah. The ghost of a steam train. Echoes down my track. It's at the moment bound for nowhere. Just going round and round. Playground kids and creaking swings. Lost laughter in the breeze. I could go on for hours and I probably will. But I'd sooner put some joy back. In this town called malice yeah yeah \n",
      "##################################################\n",
      "##################################################\n",
      "song #3 \n",
      "Better stop dreaming of the quiet life. 'Cos it's the one we'll never know. And quit running for that runaway bus. 'Cos those rosey days are few. And stop apologising for the things you've never done,. 'Cos time is short and life is cruel. Well it's up to us to change. This town called malice uh uh yeah. Rows and rows of disused milk floats. stand dying in the dairy yard. And a hundred lonely housewives clutch empty milk. bottles to their hearts. Hanging out their old love letters on the line to dry. It's enough to make you stop believing when tears come. fast and furious. In a town called malice uh uh yeah. Struggle after struggle. Year after year. The atmosphere's a fine blend of ice. I'm almost stone cold dead. In a town called malice uh uh yeah. A whole street's belief in Sunday's roast beef. gets dashed against the Co-op. To either cut down on beer or the kids new gear. It's a big decision in a town called malice uh uh yeah. The ghost of a steam train. Echoes down my track. It's at the moment bound for nowhere. Just going round and round. Playground kids and creaking swings. Lost laughter in the breeze. I could go on for hours and I probably will. But I'd sooner put some joy back. In this town called malice yeah yeah \n",
      "##################################################\n",
      "##################################################\n",
      "song #4 \n",
      "Rosie whatcha doing in this low class joint,. dancing in the dark all day. You used to be the darling of your high school scene. Now you put your love on display. Sweaty hands hand you up a dollar bill.. Hungry eyes never seem to get their fill. I used to watch you walking down the hall.. Rosie do you see me when you hear them call your name.. Rosie, Rosie I wanna take you away.. Rosie, Rosie I'm gonna make you mine someday.. Rosie I went with you for that rose tattoo. You promised no one else would see. I used to wait and drive you home from dancing school.. Remember when you danced just for me. Our love was deeper than the night was long. But things just didn't work out like our favorite song. I used to watch you walking down the hall. Rosie do you see me when you hear them call your name. Rosie, Rosie, I wanna take you away.. Rosie, Rosie, I'm gonna make you mine someday. Rosie, Rosie. Do you remember our love was deeper than the night was long. But things just didn't work out like our favorite song. I used to watch you walking down the hall. Rosie do you see me when you hear them call your name--ROSIE. Rosie, Rosie, I wanna take you away.. Rosie, Rosie, I'm gonna make you mine someday. Rosie, Rosie. \n",
      "##################################################\n"
     ]
    }
   ],
   "source": [
    "for index, song in enumerate(pd.read_csv(INPUT_FILE_PATH,usecols = [0]).iloc[cosine_top_k]['Lyric']):\n",
    "    sep = \"#\"*50\n",
    "    print(F\"{sep}\\nsong #{index} \\n{song} \\n{sep}\")"
   ]
  },
  {
   "cell_type": "markdown",
   "metadata": {},
   "source": [
    "# 1.3 term statistics:\n",
    "Use \"tf_idf\" object that we created earlier and answer the following questions:\n",
    "\n",
    "1. How many unique words we have?\n",
    "2. How many potential word bigrams we have? How many actual word bigrams we have? How do you explain this difference?\n",
    "3. What is the storage size of the input file \"lyrics.csv\"? What is the output file (bow.csv) size? how do you explain this difference?  "
   ]
  },
  {
   "cell_type": "code",
   "execution_count": 74,
   "metadata": {},
   "outputs": [
    {
     "name": "stdout",
     "output_type": "stream",
     "text": [
      "The number of unique words is:  105761\n",
      "Potenial word bigrams (worst case) is:  11185389121\n",
      "Actual word bigrams is:  2605158\n",
      "The storage size of bow.csv is:  121759247  Bytes\n",
      "The storage size of lyrcis.csv is:  168274338  Bytes\n"
     ]
    },
    {
     "data": {
      "text/plain": [
       "'\\nThe lyrcis.csv contains the full amount of words in the corpus (most of the words appear more than once).\\nHowever, the bow.csv contains each word in the corpus only once (with the number of occurrences).\\n'"
      ]
     },
     "execution_count": 74,
     "metadata": {},
     "output_type": "execute_result"
    }
   ],
   "source": [
    "# 1. \n",
    "print ('The number of unique words is: ',len(tf_idf.inverted_index))\n",
    "\n",
    "\"\"\"\n",
    "We can look at the inverted index because that's where we entered each word exactly once,\n",
    "when we updated the dictionary.\n",
    "Therefore, the number of keys is as the number of unique words in the corpus.\n",
    "\"\"\"\n",
    "\n",
    "# 2.\n",
    "print ('Potenial word bigrams (worst case) is: ',((len(tf_idf.inverted_index))**2))\n",
    "print ('Actual word bigrams is: ',(len(tf_idf.bigram_count)))\n",
    "\n",
    "\"\"\"\n",
    "The potential number of word pairs is as a square of the number of unique words in the corpus.\n",
    "This is because theoretically, any word in the corpus can appear next to any other word.\n",
    "In contrast, the actual number of pairs of words is the same as the number of keys in the 'bigram_counts'\n",
    "dictionary because when we went over the entire corpus we entered each pair of words that appeared exactly once.\n",
    "Let's put it this way - in practice, not every word in the corpus really appears next to every other word and\n",
    "there are words that appear more frequently next to other words and there are words that do not appear at all\n",
    "next to certain words.\n",
    "\"\"\"\n",
    "\n",
    "# 3.\n",
    "print ('The storage size of bow.csv is: ',BOW_PATH.stat().st_size, ' Bytes')\n",
    "print ('The storage size of lyrcis.csv is: ',INPUT_FILE_PATH.stat().st_size, ' Bytes')\n",
    "\n",
    "\"\"\"\n",
    "The lyrcis.csv contains the full amount of words in the corpus (most of the words appear more than once).\n",
    "However, the bow.csv contains each word in the corpus only once (with the number of occurrences).\n",
    "\"\"\""
   ]
  },
  {
   "cell_type": "markdown",
   "metadata": {},
   "source": [
    "## 1.4 NgramSpellingCorrector\n",
    "Now we will implement a Ngarm (character Ngrams) spelling corrector. That is, we have an out of vocabulary word (v) and we want to retrieve the most similar words (in our vocabulary) to this word.\n",
    "we will model the similarity of two words by-\n",
    "\n",
    "$$sim(v,w) := prior \\cdot likelihood = p(w) \\cdot P(v|w) $$ \n",
    "$$P(v|w) := JaccardIndex =  \\frac{|X \\cap Y|}{|X \\cup Y|}$$\n",
    "\n",
    "Where v is an out of vocabulary word (typo or spelling mistake), w is in a vocabulary word, X is the ngram set of v and Y is the ngram set of w.\n",
    "For example, if n == 3, the set of ngrams for word \"banana\" is set(\"ban\",\"ana\",\"nan\",\"ana\") = {\"ban\",\"ana\",\"nan\"}\n",
    "\n",
    "In order to do it efficently, we will first construct an index from the possible Ngrams we have seen in our corpus to the words that those Ngrams appear in, in order prevent comparing v to all of the words in our corpus.\n",
    "Then, we will implement a function that computes this similarity.\n",
    "\n",
    "* Make sure you compute the JaccardIndex efficently!"
   ]
  },
  {
   "cell_type": "code",
   "execution_count": 48,
   "metadata": {},
   "outputs": [
    {
     "data": {
      "text/plain": [
       "'\\nfor example - get_bigrams is a generator, which is an object we can loop on:\\nfor ngram in get_bigrams(word):\\n    DO SOMETHING\\n'"
      ]
     },
     "execution_count": 48,
     "metadata": {},
     "output_type": "execute_result"
    }
   ],
   "source": [
    "def get_bigrams(word):\n",
    "    for ngram in nltk.ngrams(word, 2):\n",
    "        yield \"\".join(list(ngram))\n",
    "    \n",
    "\"\"\"\n",
    "for example - get_bigrams is a generator, which is an object we can loop on:\n",
    "for ngram in get_bigrams(word):\n",
    "    DO SOMETHING\n",
    "\"\"\""
   ]
  },
  {
   "cell_type": "code",
   "execution_count": 49,
   "metadata": {},
   "outputs": [],
   "source": [
    "class NgramSpellingCorrector:\n",
    "    def __init__(self, unigram_counts: Counter, get_n_gram: callable):\n",
    "        self.unigram_counts = unigram_counts\n",
    "        self.ngram_index = {}\n",
    "        self.get_n_grams = get_n_gram\n",
    "    \n",
    "    def build_index(self) -> None:\n",
    "        for word in self.unigram_counts.keys():  # For all words in the unigram dictionary\n",
    "            word_ngrams_set=set(self.get_n_grams(word))  # Split the word into letter pairs by the get_n_gram function (remove duplicate)\n",
    "            for ngram in word_ngrams_set:   # Go over all the ngrams\n",
    "                if ngram not in self.ngram_index:  # If ngram is not appended to the ngram_index dictionary \n",
    "                    self.ngram_index[ngram]=[]  # Initilize the value of this ngram as empty list\n",
    "                self.ngram_index[ngram].append(word)  # For each ngram (key) append to it's value the word which certainly contains this ngram\n",
    "      \n",
    "    def get_top_k_words(self,word:str,k=5) -> (List[str], Dict[str, float]):\n",
    "        probabilties={}  # Initilize dictionary which contains the probabilties of similarity for each word\n",
    "        word_ngrams_set=set(self.get_n_grams(word)) # Split the word into letter pairs by the get_n_gram function (remove duplicate)\n",
    "        for ngram in word_ngrams_set:  # Go over all the word's ngrams\n",
    "            if ngram in self.ngram_index:  # If ngram in dictionary\n",
    "                for word in self.ngram_index[ngram]:  # Go over each word that contain this ngram\n",
    "                    if word not in probabilties: # If the word is not appears\n",
    "                        split_word=set(self.get_n_grams(word))  # Split the word into letter pairs by the get_n_gram function (remove duplicate)\n",
    "                        intersection = len(list(set(word_ngrams_set).intersection(split_word)))  # Calculated the intersection of ngrams between the two words \n",
    "                        union = (len(word_ngrams_set) + len(split_word)) - intersection  # Calculated the union of ngrams between the two words \n",
    "                        similarity=(float(intersection)/union)  # Calculated the similarity between the two words\n",
    "                        probabilties[word]=similarity  # Append the similarity to the dictionary under the word\n",
    "        return (list(dict(Counter(probabilties).most_common(k)).keys()) , probabilties) # Return the top K words with the highest similarity and the probabilities of all words\n",
    "\n",
    "class BigramSpellingCorrector(NgramSpellingCorrector):\n",
    "    def __init__(self, unigram_counts: Counter):\n",
    "        super().__init__(unigram_counts, get_bigrams)"
   ]
  },
  {
   "cell_type": "code",
   "execution_count": 50,
   "metadata": {},
   "outputs": [],
   "source": [
    "out_of_vocab_word = 'acress'\n",
    "bigram_spelling_corrector = BigramSpellingCorrector(tf_idf.unigram_count)\n",
    "bigram_spelling_corrector.build_index()\n",
    "candidate_words, scores = bigram_spelling_corrector.get_top_k_words(out_of_vocab_word)"
   ]
  },
  {
   "cell_type": "code",
   "execution_count": 51,
   "metadata": {},
   "outputs": [
    {
     "data": {
      "text/plain": [
       "['cress', 'recress', 'ress', 'actress', 'cresson']"
      ]
     },
     "execution_count": 51,
     "metadata": {},
     "output_type": "execute_result"
    }
   ],
   "source": [
    "candidate_words"
   ]
  },
  {
   "cell_type": "code",
   "execution_count": 52,
   "metadata": {},
   "outputs": [
    {
     "name": "stdout",
     "output_type": "stream",
     "text": [
      "The jaccared score for the word cress is 0.8\n",
      "The jaccared score for the word recress is 0.67\n",
      "The jaccared score for the word ress is 0.6\n",
      "The jaccared score for the word actress is 0.57\n",
      "The jaccared score for the word cresson is 0.57\n"
     ]
    }
   ],
   "source": [
    "for word in candidate_words:\n",
    "    print(f'The jaccared score for the word {word} is {round(scores[word],2)}')"
   ]
  },
  {
   "cell_type": "markdown",
   "metadata": {},
   "source": [
    "## 1.5 Zipf's law \n",
    "For this part of the assignment, you will not ignore the “stop words” in advance, but rather take a data-driven approach. you will first create a dictionary with keys representing the words in the corpus and values representing how many times each word appears.\n",
    "\n",
    "Using a simple visualization (scatter plot), you will then check whether the frequency of the words corresponds to Zipf's law.  Once we see that this is indeed the case, we'll try to display the graph on a logarithmic scale (both x and y axis) and see if we can get a linear trend.\n",
    "\n",
    "Each word should then weighted according to its frequency, so that the words that appear most often are given a lower weight, and so on for the words whose frequency is the lowest.\n",
    "\n",
    "So how we are going to do that?\n",
    "You will standardize all the frequency values in the dictionary and after that, they will be re-weighted. If the value of the word is less than zero after standardization, you will calculate P(X <=Z) and if the value of the word is greater than 0, you will calculate 1 - P (X <= Z), and this will be the weight for every word.\n",
    "\n",
    "Now you will multiply the standard “tf” calculation we made at the beginning of the assignment by another coefficient, which is the weight we just calculated.\n",
    "\n",
    "Lastly, we will perform the same query you performed in the previous part of the assignment and check if the returned documents are identical or different.\n"
   ]
  },
  {
   "cell_type": "code",
   "execution_count": 53,
   "metadata": {},
   "outputs": [],
   "source": [
    "#Override preprocess_sentence function in such a way that stop words are not ignored\n",
    "def preprocess_sentence(sentence : str) -> List[str]:\n",
    "    output_sentence = []\n",
    "    for word in word_tokenize(sentence): # Go over all word in a sentence\n",
    "        lower_word=word.lower()  # Lower case the word\n",
    "        word_letters = list(lower_word) # Make a list of the word letters\n",
    "        valid_letters = []  # Initialize a list of valid letters\n",
    "        for l in word_letters:  # Go over all letters in a word\n",
    "            if l in allowed_symbols:  # Check if a letter is allowed\n",
    "                valid_letters.append(l)  # Keep over characters which are in the allowed symbols\n",
    "        clean_word = ''.join(valid_letters)  # Reconnect the valid letters back into one word\n",
    "        clean_word = stemmer.stem(clean_word) # Stem the word\n",
    "        if len(clean_word) > 1:  # Check the length of a word\n",
    "            output_sentence.append(clean_word)  # keep over words with one character or less\n",
    "    return output_sentence"
   ]
  },
  {
   "cell_type": "code",
   "execution_count": 54,
   "metadata": {},
   "outputs": [
    {
     "name": "stderr",
     "output_type": "stream",
     "text": [
      "100%|██████████| 23/23 [14:22<00:00, 37.50s/it]\n"
     ]
    }
   ],
   "source": [
    "tf_idf_2 = TfIdf()\n",
    "tf_idf_2.fit()"
   ]
  },
  {
   "cell_type": "code",
   "execution_count": 55,
   "metadata": {},
   "outputs": [],
   "source": [
    "totalFrequency = tf_idf_2.unigram_count\n",
    "\n",
    "def find_k_most_frequant_words(k : int, totalFrequency: Dict[str,int]) -> Dict[str,int]:\n",
    "    top_k_frequant_words = dict(Counter(totalFrequency).most_common(k))\n",
    "    return top_k_frequant_words\n",
    "\n",
    "top_5_frequant_words = find_k_most_frequant_words(5, totalFrequency)"
   ]
  },
  {
   "cell_type": "code",
   "execution_count": 56,
   "metadata": {},
   "outputs": [
    {
     "name": "stdout",
     "output_type": "stream",
     "text": [
      "{'you': 1343235, 'the': 1178419, 'to': 689489, 'and': 674981, 'it': 667416}\n"
     ]
    }
   ],
   "source": [
    "print(top_5_frequant_words)"
   ]
  },
  {
   "cell_type": "markdown",
   "metadata": {},
   "source": [
    "### Plot Word Frequency - scatterplot"
   ]
  },
  {
   "cell_type": "code",
   "execution_count": 57,
   "metadata": {},
   "outputs": [
    {
     "data": {
      "text/plain": [
       "<function matplotlib.pyplot.show(close=None, block=None)>"
      ]
     },
     "execution_count": 57,
     "metadata": {},
     "output_type": "execute_result"
    },
    {
     "data": {
      "image/png": "[encoded data removed]",
      "text/plain": [
       "<Figure size 432x288 with 1 Axes>"
      ]
     },
     "metadata": {
      "needs_background": "light"
     },
     "output_type": "display_data"
    }
   ],
   "source": [
    "word_id = range(1, len(totalFrequency)+1)\n",
    "frequency_values = sorted(totalFrequency.values(), reverse=True)\n",
    "\n",
    "### We add ###\n",
    "fig, ax = plt.subplots(figsize = (6, 4))\n",
    "ax.scatter(word_id, frequency_values, s=2, alpha=0.6)\n",
    "ax.set_xlabel('Word ID [n]')\n",
    "ax.set_ylabel('Occurrences [n]')\n",
    "ax.set_title('Word frequency')\n",
    "\n",
    "\n",
    "plt.scatter(word_id, frequency_values, s=2, alpha=0.6)\n",
    "plt.show\n"
   ]
  },
  {
   "cell_type": "code",
   "execution_count": 58,
   "metadata": {},
   "outputs": [
    {
     "data": {
      "text/plain": [
       "\"\\nYes. Zipf's law states that the frequency of any word is inversely proportional to its' rank.\\nWe can see that a relatively small number of words take a very significant portion of the text.\\n\""
      ]
     },
     "execution_count": 58,
     "metadata": {},
     "output_type": "execute_result"
    }
   ],
   "source": [
    "#Does the plot follow Zips' law?\n",
    "\n",
    "\"\"\"\n",
    "Yes. Zipf's law states that the frequency of any word is inversely proportional to its' rank.\n",
    "We can see that a relatively small number of words take a very significant portion of the text.\n",
    "\"\"\""
   ]
  },
  {
   "cell_type": "markdown",
   "metadata": {},
   "source": [
    "### Plot Word Frequency - scatterplot - log scale"
   ]
  },
  {
   "cell_type": "code",
   "execution_count": 59,
   "metadata": {},
   "outputs": [
    {
     "data": {
      "image/png": "[encoded data removed]",
      "text/plain": [
       "<Figure size 432x288 with 1 Axes>"
      ]
     },
     "metadata": {
      "needs_background": "light"
     },
     "output_type": "display_data"
    }
   ],
   "source": [
    "fig, ax = plt.subplots(figsize = (6, 4))\n",
    "ax.scatter(word_id, frequency_values, s=2, alpha=0.6)\n",
    "ax.set_xlabel('Word ID [log(n)]') # y axis label\n",
    "ax.set_ylabel('Occurrences [log(n)]')  # x axis label\n",
    "ax.set_title('Word frequency - log scale')  # Title\n",
    "ax.set_xscale(\"log\")  # Log scale\n",
    "ax.set_yscale(\"log\")  # Log scale"
   ]
  },
  {
   "cell_type": "markdown",
   "metadata": {},
   "source": [
    "### Data standartization and reweightening\n",
    "\n",
    "#### Standartization# "
   ]
  },
  {
   "cell_type": "code",
   "execution_count": 60,
   "metadata": {},
   "outputs": [],
   "source": [
    "mean = statistics.mean(frequency_values)\n",
    "std = math.sqrt(statistics.variance(frequency_values))"
   ]
  },
  {
   "cell_type": "code",
   "execution_count": 61,
   "metadata": {},
   "outputs": [],
   "source": [
    "def standartization(totalFrequency, mean, std) -> Dict[str, int]:\n",
    "    standardized_dic = {}\n",
    "    for word in totalFrequency:  # For all word in total frequency\n",
    "        standardized_dic[word] = (totalFrequency[word] - mean) / std  # Calculated standartization\n",
    "    return standardized_dic\n",
    "\n",
    "standardized_dic = standartization(totalFrequency, mean, std)"
   ]
  },
  {
   "cell_type": "code",
   "execution_count": 62,
   "metadata": {},
   "outputs": [],
   "source": [
    "def calc_probability_of_zscore(standardized_dic) -> Dict[str,int]:\n",
    "    wighted_dic = {}\n",
    "    for key in standardized_dic.keys():\n",
    "        if  standardized_dic[key] <= 0:\n",
    "            wighted_dic[key] = st.norm(0, 1).cdf(standardized_dic[key]) / 0.5\n",
    "        else:\n",
    "            wighted_dic[key] = (1 - st.norm(0, 1).cdf(standardized_dic[key])) / 0.5\n",
    "    return wighted_dic\n",
    "\n",
    "weighted_dic = calc_probability_of_zscore(standardized_dic)"
   ]
  },
  {
   "cell_type": "code",
   "execution_count": 63,
   "metadata": {},
   "outputs": [],
   "source": [
    "# Override the function update_inverted_index_with_tf_idf_and_compute_document_norm in such a way that you multiply the original tf by the weight of the word\n",
    "class WeightedTfIdf(TfIdf):\n",
    "    def update_inverted_index_with_tf_idf_and_compute_document_norm(self):\n",
    "        for word in self.inverted_index.keys(): # For every word in the corpus\n",
    "            for doc in self.inverted_index[word].keys():  # For every document containing the word\n",
    "                n_words_in_doc = self.document_term_frequency[doc] # Length of the document is the number of words in it\n",
    "                tf = (self.inverted_index[word][doc]) / n_words_in_doc  # Term frequency is the number of words in a docuemt divided by the number of the words in it\n",
    "                idf = np.log10((self.n_docs + 1) / self.word_document_frequency[word]) # Inverted document frequency is log 10 of the number of docs, divded in the number of docs that the word appers in\n",
    "                w_ij = tf * idf * weighted_dic[word] # Calcluated tf-idf metric and multiple by weight of the word ()              \n",
    "                self.inverted_index[word][doc] = w_ij # Set the weight of a document to the tf-idf metric value  \n",
    "                if doc not in self.doc_norms: # Check if a document does not appear in doc norm dictionary\n",
    "                    self.doc_norms[doc] = 0  # initialize value for the first time that creating the doc norm\n",
    "                self.doc_norms[doc] += (w_ij ** 2) # Calculated the norm (sum the square of the weights)\n",
    "        for doc in self.doc_norms.keys():  # For all documents in doc_norms\n",
    "            self.doc_norms[doc] = np.sqrt(self.doc_norms[doc]) # The norm of the document is the square root of the weights' sum of squares"
   ]
  },
  {
   "cell_type": "code",
   "execution_count": 64,
   "metadata": {},
   "outputs": [
    {
     "name": "stderr",
     "output_type": "stream",
     "text": [
      "100%|██████████| 23/23 [14:20<00:00, 37.40s/it]\n"
     ]
    }
   ],
   "source": [
    "weightedTfIdf = WeightedTfIdf(weighted_dic)\n",
    "weightedTfIdf.fit()"
   ]
  },
  {
   "cell_type": "code",
   "execution_count": 65,
   "metadata": {},
   "outputs": [],
   "source": [
    "weighted_dr = DocumentRetriever(weightedTfIdf)"
   ]
  },
  {
   "cell_type": "code",
   "execution_count": 66,
   "metadata": {},
   "outputs": [],
   "source": [
    "query = \"Better stop dreaming of the quiet life, 'cause it's the one we'll never know And quit running for that runaway bus 'cause those rosy days are few And stop apologizing for the things you've never done 'Cause time is short and life is cruel but it's up to us to change This town called malice\""
   ]
  },
  {
   "cell_type": "code",
   "execution_count": 67,
   "metadata": {},
   "outputs": [
    {
     "name": "stderr",
     "output_type": "stream",
     "text": [
      "<ipython-input-43-0e04b351df06>:27: RuntimeWarning: invalid value encountered in double_scalars\n",
      "  result[doc] = result[doc] / (query_norm * self.doc_norms[doc])   # Normalize each value of document\n"
     ]
    },
    {
     "name": "stdout",
     "output_type": "stream",
     "text": [
      "[50221, 50233, 28634, 101537, 27766]\n",
      "[26464, 111535, 111650, 38867, 49402]\n"
     ]
    }
   ],
   "source": [
    "cosine_top_k = weighted_dr.get_top_k_documents(query, 'cosine')\n",
    "print(cosine_top_k)\n",
    "inner_product_top_k = weighted_dr.get_top_k_documents(query, 'inner_product')\n",
    "print(inner_product_top_k)\n"
   ]
  },
  {
   "cell_type": "code",
   "execution_count": 68,
   "metadata": {},
   "outputs": [
    {
     "data": {
      "text/plain": [
       "\"\\nYes, we can distinguish the similarities between the results and see that almost the\\nsame documents appear in both cases.\\nIn both cases we removed words that appear many times (by stopwords vocabulary or\\nby a normal distribution based on Zipf's law).\\nIn the second case we also removed words that may have had spelling errors meaning\\nthey appeared very few times.\\n\""
      ]
     },
     "execution_count": 68,
     "metadata": {},
     "output_type": "execute_result"
    }
   ],
   "source": [
    "#Is there any similarity between the documents retrieved? Please explain.\n",
    "\n",
    "\"\"\"\n",
    "Yes, we can distinguish the similarities between the results and see that almost the\n",
    "same documents appear in both cases.\n",
    "In both cases we removed words that appear many times (by stopwords vocabulary or\n",
    "by a normal distribution based on Zipf's law).\n",
    "In the second case we also removed words that may have had spelling errors meaning\n",
    "they appeared very few times.\n",
    "\"\"\""
   ]
  },
  {
   "cell_type": "markdown",
   "metadata": {},
   "source": [
    "# 1.6 bigram's language model"
   ]
  },
  {
   "cell_type": "markdown",
   "metadata": {},
   "source": [
    "#### Following on from section 1.4, this section discusses spelling corrections.\n",
    "#### Documents were requested for the following query:\n",
    "\n",
    "\"the bad acress played role on the show\"\n",
    "\n",
    "#### It can be seen from section 1.4 that acress does not appear in the corpus and also received  five candidate words that could be considered its replacement. As soon as the sentence is given, it is possible and even desirable to consider the context in order to determine what candidate word to use. To do so, we will use bigram's language model to calculate P(w). Finally, we return the word with the best weighted score by multiplying P(w) by the jaccard index of the word. After you've done that, discuss the results.\n",
    "\n",
    "#### Notice: only p(w) is calculated in this case using the bigram language model a. You dont need to calculate p(x|w)."
   ]
  },
  {
   "cell_type": "code",
   "execution_count": 69,
   "metadata": {},
   "outputs": [
    {
     "name": "stdout",
     "output_type": "stream",
     "text": [
      "The new chosen word for the unidentified word *acress* is actress\n"
     ]
    }
   ],
   "source": [
    "the_uncorrect_sentense = \"the bad acress played role on the show\"\n",
    "\n",
    "#continue from here\n",
    "#use tf_idf object from section 1.1!!\n",
    "sentence = tf_idf.sentence_preprocesser(the_uncorrect_sentense)  # Preprocess the sentence\n",
    "dict_scores = {}  # Initialize dictionary of scores for each candidate word\n",
    "for i,word in enumerate(sentence):  # Go over all words in sentence\n",
    "    if word not in tf_idf.unigram_count:  # Check if the word does not appear in the vocabulary\n",
    "        if i < len(sentence) - 1: # Check if there is a next word\n",
    "            next_word = sentence[i+1] # Keep the next word\n",
    "        else: # We are on the end of the sentence\n",
    "            next_word = None # No next word\n",
    "        if i > 0: # Check if there is a previous word\n",
    "            previous_word = sentence[i-1] # Keep the previous word\n",
    "        else: # We are on the beginning of the sentence\n",
    "            previous_word = None # No previous word\n",
    "        candidate_words, scores = bigram_spelling_corrector.get_top_k_words(word)  # Get the candidate words\n",
    "        for fixed_word in candidate_words:  # Go over the candidate words\n",
    "            if next_word:  # If there is a next word\n",
    "                next_prob = tf_idf.bigram_count[(fixed_word,next_word)] / tf_idf.unigram_count[fixed_word]  # Calculate the next word probability\n",
    "            else:\n",
    "                next_prob = 1\n",
    "            if previous_word: # If there is a previous word\n",
    "                previous_prob = tf_idf.bigram_count[(previous_word,fixed_word)] / tf_idf.unigram_count[previous_word] # Calculate the previous word probability\n",
    "            else:\n",
    "                previous_prob = 1\n",
    "            score = next_prob * previous_prob * scores[fixed_word] # Calculate the final score of the word\n",
    "            dict_scores[fixed_word] = score # Save the score into a dictionary\n",
    "        print(f'The new chosen word for the unidentified word *{word}* is {Counter(dict_scores).most_common(1)[0][0]}')    \n"
   ]
  },
  {
   "cell_type": "markdown",
   "metadata": {},
   "source": [
    "# The End - You did it!"
   ]
  },
  {
   "cell_type": "code",
   "execution_count": 70,
   "metadata": {},
   "outputs": [
    {
     "name": "stdout",
     "output_type": "stream",
     "text": [
      "The time it took to run the entire code is: 43.06683603666667 minuets\n"
     ]
    }
   ],
   "source": [
    "#The time it took to run the entire code\n",
    "toc = time.perf_counter()\n",
    "print(f\"The time it took to run the entire code is: {(toc - tic)/60} minuets\")"
   ]
  }
 ],
 "metadata": {
  "kernelspec": {
   "display_name": "Python 3",
   "language": "python",
   "name": "python3"
  },
  "language_info": {
   "codemirror_mode": {
    "name": "ipython",
    "version": 3
   },
   "file_extension": ".py",
   "mimetype": "text/x-python",
   "name": "python",
   "nbconvert_exporter": "python",
   "pygments_lexer": "ipython3",
   "version": "3.8.5"
  }
 },
 "nbformat": 4,
 "nbformat_minor": 4
}
